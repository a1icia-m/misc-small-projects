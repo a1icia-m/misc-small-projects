{
  "nbformat": 4,
  "nbformat_minor": 0,
  "metadata": {
    "colab": {
      "provenance": [],
      "authorship_tag": "ABX9TyO3Ume7GddEIkphFvbkBgn0",
      "include_colab_link": true
    },
    "kernelspec": {
      "name": "python3",
      "display_name": "Python 3"
    },
    "language_info": {
      "name": "python"
    }
  },
  "cells": [
    {
      "cell_type": "markdown",
      "metadata": {
        "id": "view-in-github",
        "colab_type": "text"
      },
      "source": [
        "<a href=\"https://colab.research.google.com/github/a1icia-m/misc-small-projects/blob/main/nlp/spam_email_classification.ipynb\" target=\"_parent\"><img src=\"https://colab.research.google.com/assets/colab-badge.svg\" alt=\"Open In Colab\"/></a>"
      ]
    },
    {
      "cell_type": "code",
      "execution_count": null,
      "metadata": {
        "colab": {
          "base_uri": "https://localhost:8080/",
          "height": 206
        },
        "id": "gukfZbdCCwN6",
        "outputId": "ca69d80e-7f77-445d-9c81-17d7f4ccb7b7"
      },
      "outputs": [
        {
          "output_type": "execute_result",
          "data": {
            "text/plain": [
              "      CATEGORY                                            MESSAGE  \\\n",
              "5791         0  I'm one of the 30,000 but it's not working ver...   \n",
              "5792         0  Damien Morton quoted:\\n\\n>W3C approves HTML 4 ...   \n",
              "5793         0  On Mon, 2002-07-22 at 06:50, che wrote:\\n\\n\\n\\...   \n",
              "5794         0  Once upon a time, Manfred wrote :\\n\\n\\n\\n> I w...   \n",
              "5795         0  If you run Pick, and then use the \"New FTOC\" b...   \n",
              "\n",
              "                                   FILE_NAME  \n",
              "5791  00609.dd49926ce94a1ea328cce9b62825bc97  \n",
              "5792  00957.e0b56b117f3ec5f85e432a9d2a47801f  \n",
              "5793  01127.841233b48eceb74a825417d8d918abf8  \n",
              "5794  01178.5c977dff972cd6eef64d4173b90307f0  \n",
              "5795  00747.352d424267d36975a7b40b85ffd0885e  "
            ],
            "text/html": [
              "\n",
              "  <div id=\"df-3219d4cb-fdf6-4379-9390-92f4858cf33c\" class=\"colab-df-container\">\n",
              "    <div>\n",
              "<style scoped>\n",
              "    .dataframe tbody tr th:only-of-type {\n",
              "        vertical-align: middle;\n",
              "    }\n",
              "\n",
              "    .dataframe tbody tr th {\n",
              "        vertical-align: top;\n",
              "    }\n",
              "\n",
              "    .dataframe thead th {\n",
              "        text-align: right;\n",
              "    }\n",
              "</style>\n",
              "<table border=\"1\" class=\"dataframe\">\n",
              "  <thead>\n",
              "    <tr style=\"text-align: right;\">\n",
              "      <th></th>\n",
              "      <th>CATEGORY</th>\n",
              "      <th>MESSAGE</th>\n",
              "      <th>FILE_NAME</th>\n",
              "    </tr>\n",
              "  </thead>\n",
              "  <tbody>\n",
              "    <tr>\n",
              "      <th>5791</th>\n",
              "      <td>0</td>\n",
              "      <td>I'm one of the 30,000 but it's not working ver...</td>\n",
              "      <td>00609.dd49926ce94a1ea328cce9b62825bc97</td>\n",
              "    </tr>\n",
              "    <tr>\n",
              "      <th>5792</th>\n",
              "      <td>0</td>\n",
              "      <td>Damien Morton quoted:\\n\\n&gt;W3C approves HTML 4 ...</td>\n",
              "      <td>00957.e0b56b117f3ec5f85e432a9d2a47801f</td>\n",
              "    </tr>\n",
              "    <tr>\n",
              "      <th>5793</th>\n",
              "      <td>0</td>\n",
              "      <td>On Mon, 2002-07-22 at 06:50, che wrote:\\n\\n\\n\\...</td>\n",
              "      <td>01127.841233b48eceb74a825417d8d918abf8</td>\n",
              "    </tr>\n",
              "    <tr>\n",
              "      <th>5794</th>\n",
              "      <td>0</td>\n",
              "      <td>Once upon a time, Manfred wrote :\\n\\n\\n\\n&gt; I w...</td>\n",
              "      <td>01178.5c977dff972cd6eef64d4173b90307f0</td>\n",
              "    </tr>\n",
              "    <tr>\n",
              "      <th>5795</th>\n",
              "      <td>0</td>\n",
              "      <td>If you run Pick, and then use the \"New FTOC\" b...</td>\n",
              "      <td>00747.352d424267d36975a7b40b85ffd0885e</td>\n",
              "    </tr>\n",
              "  </tbody>\n",
              "</table>\n",
              "</div>\n",
              "    <div class=\"colab-df-buttons\">\n",
              "\n",
              "  <div class=\"colab-df-container\">\n",
              "    <button class=\"colab-df-convert\" onclick=\"convertToInteractive('df-3219d4cb-fdf6-4379-9390-92f4858cf33c')\"\n",
              "            title=\"Convert this dataframe to an interactive table.\"\n",
              "            style=\"display:none;\">\n",
              "\n",
              "  <svg xmlns=\"http://www.w3.org/2000/svg\" height=\"24px\" viewBox=\"0 -960 960 960\">\n",
              "    <path d=\"M120-120v-720h720v720H120Zm60-500h600v-160H180v160Zm220 220h160v-160H400v160Zm0 220h160v-160H400v160ZM180-400h160v-160H180v160Zm440 0h160v-160H620v160ZM180-180h160v-160H180v160Zm440 0h160v-160H620v160Z\"/>\n",
              "  </svg>\n",
              "    </button>\n",
              "\n",
              "  <style>\n",
              "    .colab-df-container {\n",
              "      display:flex;\n",
              "      gap: 12px;\n",
              "    }\n",
              "\n",
              "    .colab-df-convert {\n",
              "      background-color: #E8F0FE;\n",
              "      border: none;\n",
              "      border-radius: 50%;\n",
              "      cursor: pointer;\n",
              "      display: none;\n",
              "      fill: #1967D2;\n",
              "      height: 32px;\n",
              "      padding: 0 0 0 0;\n",
              "      width: 32px;\n",
              "    }\n",
              "\n",
              "    .colab-df-convert:hover {\n",
              "      background-color: #E2EBFA;\n",
              "      box-shadow: 0px 1px 2px rgba(60, 64, 67, 0.3), 0px 1px 3px 1px rgba(60, 64, 67, 0.15);\n",
              "      fill: #174EA6;\n",
              "    }\n",
              "\n",
              "    .colab-df-buttons div {\n",
              "      margin-bottom: 4px;\n",
              "    }\n",
              "\n",
              "    [theme=dark] .colab-df-convert {\n",
              "      background-color: #3B4455;\n",
              "      fill: #D2E3FC;\n",
              "    }\n",
              "\n",
              "    [theme=dark] .colab-df-convert:hover {\n",
              "      background-color: #434B5C;\n",
              "      box-shadow: 0px 1px 3px 1px rgba(0, 0, 0, 0.15);\n",
              "      filter: drop-shadow(0px 1px 2px rgba(0, 0, 0, 0.3));\n",
              "      fill: #FFFFFF;\n",
              "    }\n",
              "  </style>\n",
              "\n",
              "    <script>\n",
              "      const buttonEl =\n",
              "        document.querySelector('#df-3219d4cb-fdf6-4379-9390-92f4858cf33c button.colab-df-convert');\n",
              "      buttonEl.style.display =\n",
              "        google.colab.kernel.accessAllowed ? 'block' : 'none';\n",
              "\n",
              "      async function convertToInteractive(key) {\n",
              "        const element = document.querySelector('#df-3219d4cb-fdf6-4379-9390-92f4858cf33c');\n",
              "        const dataTable =\n",
              "          await google.colab.kernel.invokeFunction('convertToInteractive',\n",
              "                                                    [key], {});\n",
              "        if (!dataTable) return;\n",
              "\n",
              "        const docLinkHtml = 'Like what you see? Visit the ' +\n",
              "          '<a target=\"_blank\" href=https://colab.research.google.com/notebooks/data_table.ipynb>data table notebook</a>'\n",
              "          + ' to learn more about interactive tables.';\n",
              "        element.innerHTML = '';\n",
              "        dataTable['output_type'] = 'display_data';\n",
              "        await google.colab.output.renderOutput(dataTable, element);\n",
              "        const docLink = document.createElement('div');\n",
              "        docLink.innerHTML = docLinkHtml;\n",
              "        element.appendChild(docLink);\n",
              "      }\n",
              "    </script>\n",
              "  </div>\n",
              "\n",
              "\n",
              "    <div id=\"df-a694273c-aa7b-485b-8c63-b071114bddb5\">\n",
              "      <button class=\"colab-df-quickchart\" onclick=\"quickchart('df-a694273c-aa7b-485b-8c63-b071114bddb5')\"\n",
              "                title=\"Suggest charts\"\n",
              "                style=\"display:none;\">\n",
              "\n",
              "<svg xmlns=\"http://www.w3.org/2000/svg\" height=\"24px\"viewBox=\"0 0 24 24\"\n",
              "     width=\"24px\">\n",
              "    <g>\n",
              "        <path d=\"M19 3H5c-1.1 0-2 .9-2 2v14c0 1.1.9 2 2 2h14c1.1 0 2-.9 2-2V5c0-1.1-.9-2-2-2zM9 17H7v-7h2v7zm4 0h-2V7h2v10zm4 0h-2v-4h2v4z\"/>\n",
              "    </g>\n",
              "</svg>\n",
              "      </button>\n",
              "\n",
              "<style>\n",
              "  .colab-df-quickchart {\n",
              "      --bg-color: #E8F0FE;\n",
              "      --fill-color: #1967D2;\n",
              "      --hover-bg-color: #E2EBFA;\n",
              "      --hover-fill-color: #174EA6;\n",
              "      --disabled-fill-color: #AAA;\n",
              "      --disabled-bg-color: #DDD;\n",
              "  }\n",
              "\n",
              "  [theme=dark] .colab-df-quickchart {\n",
              "      --bg-color: #3B4455;\n",
              "      --fill-color: #D2E3FC;\n",
              "      --hover-bg-color: #434B5C;\n",
              "      --hover-fill-color: #FFFFFF;\n",
              "      --disabled-bg-color: #3B4455;\n",
              "      --disabled-fill-color: #666;\n",
              "  }\n",
              "\n",
              "  .colab-df-quickchart {\n",
              "    background-color: var(--bg-color);\n",
              "    border: none;\n",
              "    border-radius: 50%;\n",
              "    cursor: pointer;\n",
              "    display: none;\n",
              "    fill: var(--fill-color);\n",
              "    height: 32px;\n",
              "    padding: 0;\n",
              "    width: 32px;\n",
              "  }\n",
              "\n",
              "  .colab-df-quickchart:hover {\n",
              "    background-color: var(--hover-bg-color);\n",
              "    box-shadow: 0 1px 2px rgba(60, 64, 67, 0.3), 0 1px 3px 1px rgba(60, 64, 67, 0.15);\n",
              "    fill: var(--button-hover-fill-color);\n",
              "  }\n",
              "\n",
              "  .colab-df-quickchart-complete:disabled,\n",
              "  .colab-df-quickchart-complete:disabled:hover {\n",
              "    background-color: var(--disabled-bg-color);\n",
              "    fill: var(--disabled-fill-color);\n",
              "    box-shadow: none;\n",
              "  }\n",
              "\n",
              "  .colab-df-spinner {\n",
              "    border: 2px solid var(--fill-color);\n",
              "    border-color: transparent;\n",
              "    border-bottom-color: var(--fill-color);\n",
              "    animation:\n",
              "      spin 1s steps(1) infinite;\n",
              "  }\n",
              "\n",
              "  @keyframes spin {\n",
              "    0% {\n",
              "      border-color: transparent;\n",
              "      border-bottom-color: var(--fill-color);\n",
              "      border-left-color: var(--fill-color);\n",
              "    }\n",
              "    20% {\n",
              "      border-color: transparent;\n",
              "      border-left-color: var(--fill-color);\n",
              "      border-top-color: var(--fill-color);\n",
              "    }\n",
              "    30% {\n",
              "      border-color: transparent;\n",
              "      border-left-color: var(--fill-color);\n",
              "      border-top-color: var(--fill-color);\n",
              "      border-right-color: var(--fill-color);\n",
              "    }\n",
              "    40% {\n",
              "      border-color: transparent;\n",
              "      border-right-color: var(--fill-color);\n",
              "      border-top-color: var(--fill-color);\n",
              "    }\n",
              "    60% {\n",
              "      border-color: transparent;\n",
              "      border-right-color: var(--fill-color);\n",
              "    }\n",
              "    80% {\n",
              "      border-color: transparent;\n",
              "      border-right-color: var(--fill-color);\n",
              "      border-bottom-color: var(--fill-color);\n",
              "    }\n",
              "    90% {\n",
              "      border-color: transparent;\n",
              "      border-bottom-color: var(--fill-color);\n",
              "    }\n",
              "  }\n",
              "</style>\n",
              "\n",
              "      <script>\n",
              "        async function quickchart(key) {\n",
              "          const quickchartButtonEl =\n",
              "            document.querySelector('#' + key + ' button');\n",
              "          quickchartButtonEl.disabled = true;  // To prevent multiple clicks.\n",
              "          quickchartButtonEl.classList.add('colab-df-spinner');\n",
              "          try {\n",
              "            const charts = await google.colab.kernel.invokeFunction(\n",
              "                'suggestCharts', [key], {});\n",
              "          } catch (error) {\n",
              "            console.error('Error during call to suggestCharts:', error);\n",
              "          }\n",
              "          quickchartButtonEl.classList.remove('colab-df-spinner');\n",
              "          quickchartButtonEl.classList.add('colab-df-quickchart-complete');\n",
              "        }\n",
              "        (() => {\n",
              "          let quickchartButtonEl =\n",
              "            document.querySelector('#df-a694273c-aa7b-485b-8c63-b071114bddb5 button');\n",
              "          quickchartButtonEl.style.display =\n",
              "            google.colab.kernel.accessAllowed ? 'block' : 'none';\n",
              "        })();\n",
              "      </script>\n",
              "    </div>\n",
              "\n",
              "    </div>\n",
              "  </div>\n"
            ],
            "application/vnd.google.colaboratory.intrinsic+json": {
              "type": "dataframe",
              "summary": "{\n  \"name\": \"df\",\n  \"rows\": 5,\n  \"fields\": [\n    {\n      \"column\": \"CATEGORY\",\n      \"properties\": {\n        \"dtype\": \"number\",\n        \"std\": 0,\n        \"min\": 0,\n        \"max\": 0,\n        \"num_unique_values\": 1,\n        \"samples\": [\n          0\n        ],\n        \"semantic_type\": \"\",\n        \"description\": \"\"\n      }\n    },\n    {\n      \"column\": \"MESSAGE\",\n      \"properties\": {\n        \"dtype\": \"string\",\n        \"num_unique_values\": 5,\n        \"samples\": [\n          \"Damien Morton quoted:\\n\\n>W3C approves HTML 4 'emotitags' - Now you'll be able to say it with feeling\\n\\n\\n\\n>>From The Rockall Times (http://www.therockalltimes.co.uk/), definitely\\n\\nthe source of much funniness.\\n\\n\\n\\n\\n\\nR\\n\\nhttp://xent.com/mailman/listinfo/fork\\n\\n\\n\\n\\n\"\n        ],\n        \"semantic_type\": \"\",\n        \"description\": \"\"\n      }\n    },\n    {\n      \"column\": \"FILE_NAME\",\n      \"properties\": {\n        \"dtype\": \"string\",\n        \"num_unique_values\": 5,\n        \"samples\": [\n          \"00957.e0b56b117f3ec5f85e432a9d2a47801f\"\n        ],\n        \"semantic_type\": \"\",\n        \"description\": \"\"\n      }\n    }\n  ]\n}"
            }
          },
          "metadata": {},
          "execution_count": 4
        }
      ],
      "source": [
        "#load df\n",
        "import pandas as pd\n",
        "df = pd.read_csv('/spam_email.csv')\n",
        "df.tail()"
      ]
    },
    {
      "cell_type": "markdown",
      "source": [],
      "metadata": {
        "id": "GFxxtm7UEY4M"
      }
    },
    {
      "cell_type": "code",
      "source": [
        "df['CATEGORY'].value_counts()\n",
        "#0 = not spam"
      ],
      "metadata": {
        "colab": {
          "base_uri": "https://localhost:8080/",
          "height": 178
        },
        "id": "Nsh5D59AFFaD",
        "outputId": "2ca4fbea-24ab-4c67-c08e-c1f71a423b42"
      },
      "execution_count": null,
      "outputs": [
        {
          "output_type": "execute_result",
          "data": {
            "text/plain": [
              "CATEGORY\n",
              "0    3900\n",
              "1    1896\n",
              "Name: count, dtype: int64"
            ],
            "text/html": [
              "<div>\n",
              "<style scoped>\n",
              "    .dataframe tbody tr th:only-of-type {\n",
              "        vertical-align: middle;\n",
              "    }\n",
              "\n",
              "    .dataframe tbody tr th {\n",
              "        vertical-align: top;\n",
              "    }\n",
              "\n",
              "    .dataframe thead th {\n",
              "        text-align: right;\n",
              "    }\n",
              "</style>\n",
              "<table border=\"1\" class=\"dataframe\">\n",
              "  <thead>\n",
              "    <tr style=\"text-align: right;\">\n",
              "      <th></th>\n",
              "      <th>count</th>\n",
              "    </tr>\n",
              "    <tr>\n",
              "      <th>CATEGORY</th>\n",
              "      <th></th>\n",
              "    </tr>\n",
              "  </thead>\n",
              "  <tbody>\n",
              "    <tr>\n",
              "      <th>0</th>\n",
              "      <td>3900</td>\n",
              "    </tr>\n",
              "    <tr>\n",
              "      <th>1</th>\n",
              "      <td>1896</td>\n",
              "    </tr>\n",
              "  </tbody>\n",
              "</table>\n",
              "</div><br><label><b>dtype:</b> int64</label>"
            ]
          },
          "metadata": {},
          "execution_count": 5
        }
      ]
    },
    {
      "cell_type": "code",
      "source": [
        "import nltk\n",
        "nltk.download('wordnet')\n",
        "nltk.download('stopwords')"
      ],
      "metadata": {
        "colab": {
          "base_uri": "https://localhost:8080/"
        },
        "id": "K5n0-V_tFJkT",
        "outputId": "083d90c9-5d2b-45a3-bc93-352ee97bd2ca"
      },
      "execution_count": null,
      "outputs": [
        {
          "output_type": "stream",
          "name": "stderr",
          "text": [
            "[nltk_data] Downloading package wordnet to /root/nltk_data...\n",
            "[nltk_data] Downloading package stopwords to /root/nltk_data...\n",
            "[nltk_data]   Unzipping corpora/stopwords.zip.\n"
          ]
        },
        {
          "output_type": "execute_result",
          "data": {
            "text/plain": [
              "True"
            ]
          },
          "metadata": {},
          "execution_count": 6
        }
      ]
    },
    {
      "cell_type": "code",
      "source": [
        "#tokenize first before removing stopwords to make sure you operate on indiv words or meaningful phrases\n",
        "#regexp allows you to add custom rules, word_tokenize is another common one (keeps punctuation and separates by word)\n",
        "tokenizer = nltk.RegexpTokenizer(r\"\\w+\")  #only regex chars, ignore punctuation\n",
        "test_message = \"Hey,, Gggg feet it going? <HTML. x random peepeepoopoo\"\n",
        "\n",
        "test_message_tokenized = tokenizer.tokenize(test_message)\n",
        "test_message_tokenized\n",
        "#each string is a token, still words, ignores punctuation and spaces"
      ],
      "metadata": {
        "colab": {
          "base_uri": "https://localhost:8080/"
        },
        "id": "sa-ZZrzRFZTK",
        "outputId": "ff6a0c52-6434-4f60-cad8-8e42c3b17db4"
      },
      "execution_count": null,
      "outputs": [
        {
          "output_type": "execute_result",
          "data": {
            "text/plain": [
              "['Hey', 'Gggg', 'feet', 'it', 'going', 'HTML', 'x', 'random', 'peepeepoopoo']"
            ]
          },
          "metadata": {},
          "execution_count": 8
        }
      ]
    },
    {
      "cell_type": "code",
      "source": [
        "test_message_lowercase = [t.lower() for t in test_message_tokenized]\n",
        "test_message_lowercase\n",
        "#many different types of processing"
      ],
      "metadata": {
        "colab": {
          "base_uri": "https://localhost:8080/"
        },
        "id": "ySq9xn0WFvBI",
        "outputId": "aa49d7dc-7e81-4cec-d9b9-8999d6736d34"
      },
      "execution_count": null,
      "outputs": [
        {
          "output_type": "execute_result",
          "data": {
            "text/plain": [
              "['hey', 'gggg', 'feet', 'it', 'going', 'html', 'x', 'random', 'peepeepoopoo']"
            ]
          },
          "metadata": {},
          "execution_count": 11
        }
      ]
    },
    {
      "cell_type": "code",
      "source": [
        "from nltk.stem import WordNetLemmatizer\n",
        "lemmatizer = WordNetLemmatizer()\n",
        "\n",
        "test_message_lemmatized = [lemmatizer.lemmatize(t) for t in test_message_lowercase]\n",
        "test_message_lemmatized\n",
        "#feet converted to foot, it is trying to extract meaning from the text\n",
        "#it is a stopword because it stops the test from being useful"
      ],
      "metadata": {
        "colab": {
          "base_uri": "https://localhost:8080/"
        },
        "id": "_tZ9SD6WGAVr",
        "outputId": "a2604012-42ae-451f-a482-a82aeac349e5"
      },
      "execution_count": null,
      "outputs": [
        {
          "output_type": "execute_result",
          "data": {
            "text/plain": [
              "['hey', 'gggg', 'foot', 'it', 'going', 'html', 'x', 'random', 'peepeepoopoo']"
            ]
          },
          "metadata": {},
          "execution_count": 12
        }
      ]
    },
    {
      "cell_type": "code",
      "source": [
        "from nltk.corpus import stopwords\n",
        "stop_words = stopwords.words('english')\n",
        "\n",
        "#get rid of all stopwords, can add your own stopwords\n",
        "test_message_useful_tokens= [t for t in test_message_lemmatized if t not in stop_words]\n",
        "test_message_useful_tokens\n",
        "#these are still tokens, just processed tokens"
      ],
      "metadata": {
        "colab": {
          "base_uri": "https://localhost:8080/"
        },
        "id": "8dEbl53KGS5j",
        "outputId": "41903307-1ae6-49b3-9514-2b46415a3117"
      },
      "execution_count": null,
      "outputs": [
        {
          "output_type": "execute_result",
          "data": {
            "text/plain": [
              "['hey', 'gggg', 'foot', 'going', 'html', 'x', 'random', 'peepeepoopoo']"
            ]
          },
          "metadata": {},
          "execution_count": 13
        }
      ]
    },
    {
      "cell_type": "code",
      "source": [
        "def message_to_tokens(s):\n",
        "  tokens = tokenizer.tokenize(s)\n",
        "  lowercase = [t.lower() for t in tokens]\n",
        "  lemmatized = [lemmatizer.lemmatize(t) for t in lowercase]\n",
        "  useful_tokens = [t for t in lemmatized if t not in stop_words]\n",
        "  return useful_tokens\n",
        "\n",
        "message_to_tokens(test_message)"
      ],
      "metadata": {
        "colab": {
          "base_uri": "https://localhost:8080/"
        },
        "id": "dDKeq9dPGvzO",
        "outputId": "2ae7abea-bc1a-4cc5-8a03-7ee3412c9d17"
      },
      "execution_count": null,
      "outputs": [
        {
          "output_type": "execute_result",
          "data": {
            "text/plain": [
              "['hey', 'gggg', 'foot', 'going', 'html', 'x', 'random', 'peepeepoopoo']"
            ]
          },
          "metadata": {},
          "execution_count": 19
        }
      ]
    },
    {
      "cell_type": "code",
      "source": [
        "#shuffle df before we partition into two sections 1 for train, 1 for test\n",
        "df = df.sample(frac = 1, random_state =1)\n",
        "df=df.reset_index(drop = True)\n",
        "\n",
        "split_index = int(len(df)*.8) #first 80% for training\n",
        "train_df, test_df = df[:split_index], df[split_index:]\n",
        "\n",
        "train_df = train_df.reset_index(drop = True)\n",
        "test_df = test_df.reset_index(drop = True)\n",
        "\n",
        "train_df, test_df"
      ],
      "metadata": {
        "colab": {
          "base_uri": "https://localhost:8080/"
        },
        "id": "6lI2p9TcHZX-",
        "outputId": "3dad82df-345c-4a90-ed61-1e0def40c073"
      },
      "execution_count": null,
      "outputs": [
        {
          "output_type": "execute_result",
          "data": {
            "text/plain": [
              "(      CATEGORY                                            MESSAGE  \\\n",
              " 0            1  \\n\\n<HTML><FONT  BACK=\"#ffffff\" style=\"BACKGRO...   \n",
              " 1            1  <html><body bgColor=\"#CCCCCC\" topmargin=1 onMo...   \n",
              " 2            0  Quoting Paul Linehan (plinehan@yahoo.com):\\n\\n...   \n",
              " 3            0  <a href=http://www.aaronsw.com/weblog/>\\n\\nAar...   \n",
              " 4            0  Oh yeah, the link for more info:\\n\\n\\n\\nhttp:/...   \n",
              " ...        ...                                                ...   \n",
              " 4631         0  Gregory Alan Bolcer:\\n\\n>I'm not sure since I ...   \n",
              " 4632         1  New Account For: zzzz@spamassassin.taint.org\\n...   \n",
              " 4633         0  >>>>> \"O\" == Owen Byrne <owen@permafrost.net> ...   \n",
              " 4634         0  This is an automated response to a message you...   \n",
              " 4635         0  http://www.ouchytheclown.com/welcome.html\\n\\n\\...   \n",
              " \n",
              "                                    FILE_NAME  \n",
              " 0     00118.141d803810acd9d4fc23db103dddfcd9  \n",
              " 1     00463.0bc4e08af0529dd773d9f10f922547db  \n",
              " 2     00358.87ee38040ac1f42320c7b89628b1850a  \n",
              " 3     01274.0d083a2d3b30061efdc2cc73ee9e76e3  \n",
              " 4     00756.2b2ec73ad20a4e0bdf31632ac019233b  \n",
              " ...                                      ...  \n",
              " 4631  00830.3a2cadbd29e654a7cbbf64ba4bdc378d  \n",
              " 4632  00354.dca4b8984863a76ffd01a33888498288  \n",
              " 4633  00346.f1d941485f6a20b29329111c59760585  \n",
              " 4634  00033.2ceb520d2c6500ccf24357f2ebdce618  \n",
              " 4635  00170.14c40e625814c14dfe2eb997157c6437  \n",
              " \n",
              " [4636 rows x 3 columns],\n",
              "       CATEGORY                                            MESSAGE  \\\n",
              " 0            0  This is just an semi-educated guess - if I'm w...   \n",
              " 1            1  ------=_NextPart_000_00B0_58C75D0E.A4523D08\\n\\...   \n",
              " 2            0  I seem to be getting the known spam message nu...   \n",
              " 3            0  \\n\\n\\n\\n>>>>> On Mon, 30 Sep 2002, \"Ted\" == Te...   \n",
              " 4            1  This is a multi-part message in MIME format.\\n...   \n",
              " ...        ...                                                ...   \n",
              " 1155         1  <html>\\n\\n\\n\\n<body>\\n\\n\\n\\n<font size=\"2\" PTS...   \n",
              " 1156         0  \\n\\n\\n\\nformail did the trick. Thanks to those...   \n",
              " 1157         0  URL: http://www.askbjoernhansen.com/archives/2...   \n",
              " 1158         1  <html>\\n\\n<head>\\n\\n   <meta http-equiv=3D\"Con...   \n",
              " 1159         0  >>>>> \"E\" == Elias Sinderson <elias@cse.ucsc.e...   \n",
              " \n",
              "                                    FILE_NAME  \n",
              " 0     01503.5e13994a5676296ed31b14e83367031c  \n",
              " 1     00441.3b9c3055e08bda4c0f7eea43749e324c  \n",
              " 2     00623.8bf6da05b986d3b16c208102e1c266f2  \n",
              " 3     01143.77077715a838bb473dad6a466d2e2403  \n",
              " 4     00224.1b3430b101a8a8b22493c4948fcbe9cc  \n",
              " ...                                      ...  \n",
              " 1155  00552.877d8dbff829787aa8349b433a8421f0  \n",
              " 1156  00647.97e77e8264c32c8b05077edc15721ba2  \n",
              " 1157  02055.80f7eff41824e0337e453a988ceda994  \n",
              " 1158  00376.f4ed5f002f9b6b320a67f1da9cacbe72  \n",
              " 1159  00987.1d700056f6a043acd5d388ca81fa0b1f  \n",
              " \n",
              " [1160 rows x 3 columns])"
            ]
          },
          "metadata": {},
          "execution_count": 20
        }
      ]
    },
    {
      "cell_type": "code",
      "source": [
        "token_counter = {}\n",
        "\n",
        "for message in train_df['MESSAGE']:\n",
        "  message_tokens = message_to_tokens(message)\n",
        "\n",
        "  for token in message_tokens:\n",
        "    if token not in token_counter:\n",
        "      token_counter[token] = 1\n",
        "    else:\n",
        "      token_counter[token] += 1\n",
        "\n",
        "len(token_counter)"
      ],
      "metadata": {
        "colab": {
          "base_uri": "https://localhost:8080/"
        },
        "id": "olO7lL3GIGST",
        "outputId": "07223667-ce53-4cee-8e9b-e1133024f571"
      },
      "execution_count": null,
      "outputs": [
        {
          "output_type": "execute_result",
          "data": {
            "text/plain": [
              "86439"
            ]
          },
          "metadata": {},
          "execution_count": 21
        }
      ]
    },
    {
      "cell_type": "code",
      "source": [
        "def keep_token(token, thershold):\n",
        "  if token not in token_counter:\n",
        "    return False\n",
        "  return (token_counter[token] >= thershold)\n",
        "\n",
        "keep_token('hello', 100)"
      ],
      "metadata": {
        "colab": {
          "base_uri": "https://localhost:8080/"
        },
        "id": "I2my_YDIIcgJ",
        "outputId": "2e672248-159d-44e5-a2a8-0af338899b94"
      },
      "execution_count": null,
      "outputs": [
        {
          "output_type": "execute_result",
          "data": {
            "text/plain": [
              "True"
            ]
          },
          "metadata": {},
          "execution_count": 23
        }
      ]
    },
    {
      "cell_type": "code",
      "source": [
        "features = set()\n",
        "for token in token_counter:\n",
        "  if keep_token(token, 5275):\n",
        "    features.add(token)\n",
        "print(features)\n",
        "len(features)"
      ],
      "metadata": {
        "colab": {
          "base_uri": "https://localhost:8080/"
        },
        "id": "gmJTJkSqJQ0o",
        "outputId": "113a250b-7eb1-4f71-de40-1426f00c241c"
      },
      "execution_count": null,
      "outputs": [
        {
          "output_type": "stream",
          "name": "stdout",
          "text": [
            "{'http', 'p', '20', 'font', 'align', '3d', 'face', 'center', 'b', 'br', '0', 'nbsp', 'www', '2', 'color', 'com', 'width', 'list', 'tr', 'size', 'td', '1', 'arial'}\n"
          ]
        },
        {
          "output_type": "execute_result",
          "data": {
            "text/plain": [
              "23"
            ]
          },
          "metadata": {},
          "execution_count": 118
        }
      ]
    },
    {
      "cell_type": "code",
      "source": [
        "feeatures = list(features)\n",
        "features"
      ],
      "metadata": {
        "colab": {
          "base_uri": "https://localhost:8080/"
        },
        "id": "sNB3joI6Jcm-",
        "outputId": "f32e6725-8738-437e-db45-b6fb256a2971"
      },
      "execution_count": null,
      "outputs": [
        {
          "output_type": "execute_result",
          "data": {
            "text/plain": [
              "{'0',\n",
              " '1',\n",
              " '2',\n",
              " '20',\n",
              " '3d',\n",
              " 'align',\n",
              " 'arial',\n",
              " 'b',\n",
              " 'br',\n",
              " 'center',\n",
              " 'color',\n",
              " 'com',\n",
              " 'face',\n",
              " 'font',\n",
              " 'http',\n",
              " 'list',\n",
              " 'nbsp',\n",
              " 'p',\n",
              " 'size',\n",
              " 'td',\n",
              " 'tr',\n",
              " 'width',\n",
              " 'www'}"
            ]
          },
          "metadata": {},
          "execution_count": 119
        }
      ]
    },
    {
      "cell_type": "code",
      "source": [
        "token_to_index_mapping = {t:i for t, i in zip(features, range(len(features)))}\n",
        "token_to_index_mapping"
      ],
      "metadata": {
        "colab": {
          "base_uri": "https://localhost:8080/"
        },
        "id": "_a3hwUTOJhdQ",
        "outputId": "7cf72bc1-74b2-4870-df09-95e1629dfc80"
      },
      "execution_count": null,
      "outputs": [
        {
          "output_type": "execute_result",
          "data": {
            "text/plain": [
              "{'http': 0,\n",
              " 'p': 1,\n",
              " '20': 2,\n",
              " 'font': 3,\n",
              " 'align': 4,\n",
              " '3d': 5,\n",
              " 'face': 6,\n",
              " 'center': 7,\n",
              " 'b': 8,\n",
              " 'br': 9,\n",
              " '0': 10,\n",
              " 'nbsp': 11,\n",
              " 'www': 12,\n",
              " '2': 13,\n",
              " 'color': 14,\n",
              " 'com': 15,\n",
              " 'width': 16,\n",
              " 'list': 17,\n",
              " 'tr': 18,\n",
              " 'size': 19,\n",
              " 'td': 20,\n",
              " '1': 21,\n",
              " 'arial': 22}"
            ]
          },
          "metadata": {},
          "execution_count": 120
        }
      ]
    },
    {
      "cell_type": "code",
      "source": [
        "message_to_tokens(\"3d b <br> .com bad font font com randoms\")"
      ],
      "metadata": {
        "colab": {
          "base_uri": "https://localhost:8080/"
        },
        "id": "BFU2b9MrJw_Q",
        "outputId": "00c84fd4-5d2b-48a2-d8ab-0ec2189c8816"
      },
      "execution_count": null,
      "outputs": [
        {
          "output_type": "execute_result",
          "data": {
            "text/plain": [
              "['3d', 'b', 'br', 'com', 'bad', 'font', 'font', 'com', 'randoms']"
            ]
          },
          "metadata": {},
          "execution_count": 121
        }
      ]
    },
    {
      "cell_type": "code",
      "source": [
        "import numpy as np\n",
        "def message_to_count_vector(message):\n",
        "  count_vector = np.zeros(len(features))\n",
        "\n",
        "  processed_list_of_tokens =message_to_tokens(message)\n",
        "\n",
        "  for token in processed_list_of_tokens:\n",
        "    if token in features:\n",
        "      count_vector[token_to_index_mapping[token]]+=1\n",
        "  return count_vector\n",
        "\n",
        "message_to_count_vector(\"3d b <br> .com bad font font com randoms\")"
      ],
      "metadata": {
        "colab": {
          "base_uri": "https://localhost:8080/"
        },
        "id": "i7Ct3ByJKRvW",
        "outputId": "e739e486-5355-4b86-de5e-3bf287fe1d92"
      },
      "execution_count": null,
      "outputs": [
        {
          "output_type": "execute_result",
          "data": {
            "text/plain": [
              "array([0., 0., 0., 2., 0., 1., 0., 0., 1., 1., 0., 0., 0., 0., 0., 2., 0.,\n",
              "       0., 0., 0., 0., 0., 0.])"
            ]
          },
          "metadata": {},
          "execution_count": 122
        }
      ]
    },
    {
      "cell_type": "code",
      "source": [
        "message_to_count_vector(train_df['MESSAGE'].iloc[5])"
      ],
      "metadata": {
        "colab": {
          "base_uri": "https://localhost:8080/"
        },
        "id": "i7wXAeu_LUlu",
        "outputId": "9a536d38-6005-4502-a1cd-a99cd33e37a4"
      },
      "execution_count": null,
      "outputs": [
        {
          "output_type": "execute_result",
          "data": {
            "text/plain": [
              "array([3., 0., 0., 0., 0., 0., 0., 0., 0., 0., 0., 0., 0., 0., 0., 0., 0.,\n",
              "       1., 0., 0., 0., 0., 0.])"
            ]
          },
          "metadata": {},
          "execution_count": 123
        }
      ]
    },
    {
      "cell_type": "code",
      "source": [
        "train_df.iloc[5]"
      ],
      "metadata": {
        "colab": {
          "base_uri": "https://localhost:8080/",
          "height": 178
        },
        "id": "aJ3-R6OwL7qF",
        "outputId": "b4415229-8e4b-4fbd-9882-84a947131905"
      },
      "execution_count": null,
      "outputs": [
        {
          "output_type": "execute_result",
          "data": {
            "text/plain": [
              "CATEGORY                                                     1\n",
              "MESSAGE      Low-Cost Term-Life Insurance!\\n\\nSAVE up to 70...\n",
              "FILE_NAME               00303.7d749e4a46ceb169ea1af5b9e5ab39a9\n",
              "Name: 5, dtype: object"
            ],
            "text/html": [
              "<div>\n",
              "<style scoped>\n",
              "    .dataframe tbody tr th:only-of-type {\n",
              "        vertical-align: middle;\n",
              "    }\n",
              "\n",
              "    .dataframe tbody tr th {\n",
              "        vertical-align: top;\n",
              "    }\n",
              "\n",
              "    .dataframe thead th {\n",
              "        text-align: right;\n",
              "    }\n",
              "</style>\n",
              "<table border=\"1\" class=\"dataframe\">\n",
              "  <thead>\n",
              "    <tr style=\"text-align: right;\">\n",
              "      <th></th>\n",
              "      <th>5</th>\n",
              "    </tr>\n",
              "  </thead>\n",
              "  <tbody>\n",
              "    <tr>\n",
              "      <th>CATEGORY</th>\n",
              "      <td>1</td>\n",
              "    </tr>\n",
              "    <tr>\n",
              "      <th>MESSAGE</th>\n",
              "      <td>Low-Cost Term-Life Insurance!\\n\\nSAVE up to 70...</td>\n",
              "    </tr>\n",
              "    <tr>\n",
              "      <th>FILE_NAME</th>\n",
              "      <td>00303.7d749e4a46ceb169ea1af5b9e5ab39a9</td>\n",
              "    </tr>\n",
              "  </tbody>\n",
              "</table>\n",
              "</div><br><label><b>dtype:</b> object</label>"
            ]
          },
          "metadata": {},
          "execution_count": 124
        }
      ]
    },
    {
      "cell_type": "code",
      "source": [
        "def df_to_x_y(dff):\n",
        "  y= dff[\"CATEGORY\"].to_numpy().astype(int)\n",
        "\n",
        "  message_col = dff[\"MESSAGE\"]\n",
        "  count_vectors = []\n",
        "\n",
        "  for message in message_col:\n",
        "    count_v = message_to_count_vector(message)\n",
        "    count_vectors.append(count_v)\n",
        "\n",
        "  x = np.array(count_vectors).astype(int)\n",
        "\n",
        "  return x,y\n"
      ],
      "metadata": {
        "id": "uvAbrXT2MtrM"
      },
      "execution_count": null,
      "outputs": []
    },
    {
      "cell_type": "code",
      "source": [
        "x_train, y_train = df_to_x_y(train_df)\n",
        "x_test, y_test = df_to_x_y(test_df)\n",
        "\n",
        "x_train.shape, y_train.shape, x_test.shape, y_test.shape\n",
        "#x_train is matrix of inputs and has rows w each row a corresponding evctor, y_train is the classification of wheter or not it is spam or not spam"
      ],
      "metadata": {
        "colab": {
          "base_uri": "https://localhost:8080/"
        },
        "id": "xofLKQO4MEi-",
        "outputId": "f1c1f830-cb24-40f1-938b-d66a6985a411"
      },
      "execution_count": null,
      "outputs": [
        {
          "output_type": "execute_result",
          "data": {
            "text/plain": [
              "((4636, 23), (4636,), (1160, 23), (1160,))"
            ]
          },
          "metadata": {},
          "execution_count": 126
        }
      ]
    },
    {
      "cell_type": "code",
      "source": [
        "from sklearn.preprocessing import MinMaxScaler #normalizes data so theyre all 0<=x<=1 where 0 is min, 1 is max\n",
        "\n",
        "scaler = MinMaxScaler().fit(x_train)\n",
        "x_train= scaler.transform(x_train)\n",
        "x_test = scaler.transform(x_test)\n",
        "x_train"
      ],
      "metadata": {
        "colab": {
          "base_uri": "https://localhost:8080/"
        },
        "id": "IxVQsOyXMb8K",
        "outputId": "6013a8e2-2f2f-4d23-b69b-e11eab613714"
      },
      "execution_count": null,
      "outputs": [
        {
          "output_type": "execute_result",
          "data": {
            "text/plain": [
              "array([[0.025     , 0.        , 0.        , ..., 0.        , 0.        ,\n",
              "        0.003663  ],\n",
              "       [0.00833333, 0.04065041, 0.        , ..., 0.01346801, 0.00363636,\n",
              "        0.02564103],\n",
              "       [0.00416667, 0.00406504, 0.        , ..., 0.        , 0.        ,\n",
              "        0.        ],\n",
              "       ...,\n",
              "       [0.00416667, 0.        , 0.        , ..., 0.        , 0.        ,\n",
              "        0.        ],\n",
              "       [0.00416667, 0.        , 0.        , ..., 0.        , 0.        ,\n",
              "        0.        ],\n",
              "       [0.0125    , 0.00406504, 0.        , ..., 0.        , 0.        ,\n",
              "        0.        ]])"
            ]
          },
          "metadata": {},
          "execution_count": 127
        }
      ]
    },
    {
      "cell_type": "code",
      "source": [
        "#logitic regression model!!\n",
        "from sklearn.linear_model import LogisticRegression\n",
        "from sklearn.metrics import classification_report\n",
        "\n",
        "lr = LogisticRegression().fit(x_train, y_train)\n",
        "print(classification_report(y_test, lr.predict(x_test))) #how well the test set does based on trained model set"
      ],
      "metadata": {
        "colab": {
          "base_uri": "https://localhost:8080/"
        },
        "id": "oo0zDaFwOg9N",
        "outputId": "5fd5631f-85d4-4d45-8e48-d962d78e9574"
      },
      "execution_count": null,
      "outputs": [
        {
          "output_type": "stream",
          "name": "stdout",
          "text": [
            "              precision    recall  f1-score   support\n",
            "\n",
            "           0       0.77      1.00      0.87       788\n",
            "           1       0.99      0.37      0.54       372\n",
            "\n",
            "    accuracy                           0.80      1160\n",
            "   macro avg       0.88      0.68      0.70      1160\n",
            "weighted avg       0.84      0.80      0.76      1160\n",
            "\n"
          ]
        }
      ]
    },
    {
      "cell_type": "code",
      "source": [
        "#random forest model\n",
        "from sklearn.ensemble import RandomForestClassifier\n",
        "\n",
        "rf = RandomForestClassifier().fit(x_train, y_train)\n",
        "print(classification_report(y_test, rf.predict(x_test)))"
      ],
      "metadata": {
        "colab": {
          "base_uri": "https://localhost:8080/"
        },
        "id": "ozQL2nf7PK9r",
        "outputId": "4fd99d84-9453-4d02-b8f2-bc462fc94b80"
      },
      "execution_count": null,
      "outputs": [
        {
          "output_type": "stream",
          "name": "stdout",
          "text": [
            "              precision    recall  f1-score   support\n",
            "\n",
            "           0       0.89      0.95      0.92       788\n",
            "           1       0.88      0.76      0.82       372\n",
            "\n",
            "    accuracy                           0.89      1160\n",
            "   macro avg       0.89      0.86      0.87      1160\n",
            "weighted avg       0.89      0.89      0.89      1160\n",
            "\n"
          ]
        }
      ]
    },
    {
      "cell_type": "code",
      "source": [],
      "metadata": {
        "id": "J8WGRr-gPVCM"
      },
      "execution_count": null,
      "outputs": []
    }
  ]
}